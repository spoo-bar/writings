{
 "cells": [
  {
   "cell_type": "markdown",
   "id": "f8a0c69e",
   "metadata": {},
   "source": [
    "---\n",
    "title: \"ZK-Bootcamp - Homework 3 - Elliptic Curves\"\n",
    "date: 2025-06-24T00:00:00+00:00\n",
    "author: Spoorthi Satheesha\n",
    "layout: post\n",
    "permalink: /zk-bootcamp-homework-3/\n",
    "categories: Study\n",
    "tags: [math, zk]\n",
    "mathjax: true\n",
    "excerpt: \"Homework for Elliptic Curves of Rareskill's ZK Bootcamp\"\n",
    "seo_title: \"ZK-Bootcamp - Homework 3 - Elliptic Curves\"\n",
    "seo_description: \"Homework for Elliptic Curves of Rareskill's ZK Bootcamp\"\n",
    "---"
   ]
  },
  {
   "cell_type": "markdown",
   "id": "db6000a0",
   "metadata": {},
   "source": [
    "#### Problem 1\n",
    "\n",
    "Implement point addition "
   ]
  },
  {
   "cell_type": "code",
   "execution_count": null,
   "id": "394d856f",
   "metadata": {},
   "outputs": [],
   "source": [
    "def point_addition(p1, p2):\n",
    "    assert p1 != p2, \"Points must be different\"\n",
    "    x1, y1 = p1\n",
    "    x2, y2 = p2\n",
    "\n",
    "    assert x1 != x2, \"X coordinates must be different\"\n",
    "\n",
    "    l = (y2 - y1) / (x2 - x1) \n",
    "\n",
    "    x3 = pow(l,2) - x1 - x2\n",
    "    y3 = l*(x1 - x3) - y1\n",
    "    p3 = (x3, y3)  \n",
    "    return p3\n"
   ]
  },
  {
   "cell_type": "code",
   "execution_count": null,
   "id": "904f5c15",
   "metadata": {},
   "outputs": [],
   "source": [
    "!python -m pip install numpy\n",
    "!python -m pip install matplotlib"
   ]
  },
  {
   "cell_type": "code",
   "execution_count": null,
   "id": "d7d0251b",
   "metadata": {},
   "outputs": [],
   "source": [
    "import numpy as np\n",
    "import matplotlib.pyplot as plt\n",
    "\n",
    "def plot_elliptic_curve(a, b, points=None, xlim=(-3, 6), ylim=(-16, 16)):\n",
    "    \"\"\"\n",
    "    Plots the elliptic curve y^2 = x^3 + a*x + b and marks the given points.\n",
    "    \n",
    "    Args:\n",
    "        a (float): Coefficient of x in the curve equation.\n",
    "        b (float): Constant term in the curve equation.\n",
    "        points (list of tuples): List of (x, y) points to mark on the curve.\n",
    "        xlim (tuple): x-axis limits for the plot.\n",
    "        ylim (tuple): y-axis limits for the plot.\n",
    "        title (str): Title for the plot.\n",
    "    \"\"\"\n",
    "    x = np.linspace(xlim[0], xlim[1], 800)\n",
    "    y2 = x**3 + a*x + b\n",
    "    mask = y2 >= 0\n",
    "    x_real = x[mask]\n",
    "    y_real = np.sqrt(y2[mask])\n",
    "\n",
    "    # Plotting the elliptic curve\n",
    "    plt.figure(figsize=(8,6))\n",
    "    plt.plot(x_real, y_real, label=r\"$y^2 = x^3 + {}x + {}$\".format(a, b))\n",
    "    plt.plot(x_real, -y_real, color='C0') \n",
    "\n",
    "    # Plotting the points, P1 + P2 = P3\n",
    "    colors = ['red', 'green', 'blue']\n",
    "    assert len(points) == 3\n",
    "    for idx, pt in enumerate(points):\n",
    "        plt.scatter(*pt, color=colors[idx % len(colors)], label=f'P{idx+1} {pt}')\n",
    "\n",
    "    (x1, y1), (x2, y2), (x3, y3) = points[0], points[1], points[2]\n",
    "    m = (y2 - y1) / (x2 - x1)\n",
    "    x_line = np.linspace(xlim[0], xlim[1], 200)\n",
    "    y_line = m * (x_line - x1) + y1\n",
    "    # Plotting the line through P1 and P2\n",
    "    plt.plot(x_line, y_line, color='purple', linestyle='--', label='Line through P1 and P2')\n",
    "    # Plotting the vertical line through P3\n",
    "    plt.axvline(x=x3, color='orange', linestyle='--', label='Flipping P1+P2 over x-axis')\n",
    "    \n",
    "\n",
    "    plt.xlabel(\"x\")\n",
    "    plt.ylabel(\"y\")\n",
    "    plt.xlim(xlim)\n",
    "    plt.ylim(ylim)\n",
    "    plt.grid(True)\n",
    "    plt.title(\n",
    "        r\"Elliptic Curve $y^2 = x^3 + {}x + {}$, P1={} + P2={}\".format(a, b, points[0], points[1])\n",
    "    )\n",
    "    plt.legend() \n",
    "    plt.show()"
   ]
  },
  {
   "cell_type": "code",
   "execution_count": null,
   "id": "8f391806",
   "metadata": {},
   "outputs": [],
   "source": [
    "# For elliptic curve y^2 = x^3 + ax + b,\n",
    "# where a = -4 and b = 8, \n",
    "# the curve would be y^2 = x^3 - 4x + 8\n",
    "\n",
    "a = -4\n",
    "b = 8"
   ]
  },
  {
   "cell_type": "code",
   "execution_count": null,
   "id": "742ea485",
   "metadata": {},
   "outputs": [],
   "source": [
    "p1 = (-2, 2.82843)  \n",
    "p2 = (0, 2.82843) \n",
    "p3 = point_addition(p1, p2)\n",
    "expected_p3 = (2, -2.82843)\n",
    "assert p3 == expected_p3\n",
    "plot_elliptic_curve(a, b, points=[p1, p2, p3])\n"
   ]
  },
  {
   "cell_type": "code",
   "execution_count": null,
   "id": "8bde02f4",
   "metadata": {},
   "outputs": [],
   "source": [
    "p1 = (0.4, 2.54244)  \n",
    "p2 = (2.475, 3.64155) \n",
    "p3 = point_addition(p1, p2)\n",
    "expected_p3 = (-2.5944268446276673, -0.956317354603029)\n",
    "assert p3 == expected_p3\n",
    "plot_elliptic_curve(a, b, points=[p1, p2, p3])\n"
   ]
  },
  {
   "cell_type": "code",
   "execution_count": null,
   "id": "cfd82949",
   "metadata": {},
   "outputs": [],
   "source": [
    "p1 = (-1.1547, 3.32854)  \n",
    "p2 = (1.1547, -2.21829) \n",
    "p3 = point_addition(p1, p2)\n",
    "expected_p3 = (5.768878451147906, 13.30084973767244)\n",
    "assert p3 == expected_p3\n",
    "\n",
    "plot_elliptic_curve(a, b, points=[p1, p2, p3])"
   ]
  }
 ],
 "metadata": {
  "kernelspec": {
   "display_name": "Python 3",
   "language": "python",
   "name": "python3"
  },
  "language_info": {
   "codemirror_mode": {
    "name": "ipython",
    "version": 3
   },
   "file_extension": ".py",
   "mimetype": "text/x-python",
   "name": "python",
   "nbconvert_exporter": "python",
   "pygments_lexer": "ipython3",
   "version": "3.12.6"
  }
 },
 "nbformat": 4,
 "nbformat_minor": 5
}
