{
 "cells": [
  {
   "cell_type": "markdown",
   "id": "39c9c1e3",
   "metadata": {},
   "source": [
    "---\n",
    "title: \"ZK-Bootcamp - Homework 2 - Groups and Fields\"\n",
    "date: 2025-06-21T00:00:00+00:00\n",
    "author: Spoorthi Satheesha\n",
    "layout: post\n",
    "permalink: /zk-bootcamp-homework-2/\n",
    "categories: Study\n",
    "tags: [math, zk]\n",
    "mathjax: true\n",
    "excerpt: \"Homework for Groups and Fields of Rareskill's ZK Bootcamp\"\n",
    "seo_title: \"ZK-Bootcamp - Homework 2 - Groups and Fields\"\n",
    "seo_description: \"Homework for Groups and Fields of Rareskill's ZK Bootcamp\"\n",
    "---"
   ]
  },
  {
   "cell_type": "markdown",
   "id": "25e43400",
   "metadata": {},
   "source": [
    "#### Problem 1\n",
    "\n",
    "Let our set be real numbers. Show a binary operator that is not closed\n"
   ]
  },
  {
   "cell_type": "markdown",
   "id": "5bd1089d",
   "metadata": {},
   "source": [
    "Set is closed under an operation if applying that operation to elements within the set always results in an element that’s still within the set.\n",
    "\n",
    "On a set of real numbers, the binary operator of \"root\" $\\sqrt[a]{b}$ is not closed.\n",
    "\n",
    "e.g Two real numbers, 2 and -1, $\\sqrt[2]{-1}$ does not result in a real number as $\\sqrt[2]{-1} = i$ which is not a real number"
   ]
  },
  {
   "cell_type": "markdown",
   "id": "a37f8f07",
   "metadata": {},
   "source": [
    "#### Problem 2\n",
    "\n",
    "Find a binary operator that is closed but not associative for real numbers\n"
   ]
  },
  {
   "cell_type": "markdown",
   "id": "d9327bca",
   "metadata": {},
   "source": [
    "A group is considered associative if grouping of operations doesn’t affect the result e.g (a∗b)∗c=a∗(b∗c)\n",
    "\n",
    "On a set of real numbers, the binary operator of \"power\" is closed but not associative.\n",
    "\n",
    "e.g Three real numbers, 2, 3 and 4,\n",
    "\n",
    "$(2^3)^4=2^(3^4)$"
   ]
  },
  {
   "cell_type": "code",
   "execution_count": 7,
   "id": "568362fe",
   "metadata": {},
   "outputs": [],
   "source": [
    "p23 = pow(2, 3);\n",
    "p23_4 = pow(p23, 4);\n",
    "\n",
    "p34 = pow(3, 4);\n",
    "p2_34 = pow(2, p34);\n",
    "\n",
    "assert p23_4 != p2_34"
   ]
  },
  {
   "cell_type": "markdown",
   "id": "15c77768",
   "metadata": {},
   "source": [
    "#### Problem 3\n",
    "\n",
    "What algebraic structure (group, monoid, semigroup, etc) is all even integers under addition\n"
   ]
  },
  {
   "cell_type": "markdown",
   "id": "4cc85d63",
   "metadata": {},
   "source": [
    "1. Closed - Yes. When even numbers are added, they result in even numbers. 2m + 2n = 2(m+n)\n",
    "2. Associative - Yes. Integers under addition are always associative.\n",
    "3. Identity - Yes. Since 0 is an even integer, adding anything with 0 results in the same value.\n",
    "4. Inverse - Yes. Since even integers, include negative integers, every element has a negative or postive version of itself as the inverse.\n",
    "\n",
    "Even integers under addition is a Group."
   ]
  },
  {
   "cell_type": "markdown",
   "id": "363e516f",
   "metadata": {},
   "source": [
    "#### Problem 4\n",
    "\n",
    "What algebraic structure is all odd integers under multiplication?\n"
   ]
  },
  {
   "cell_type": "markdown",
   "id": "68a7928f",
   "metadata": {},
   "source": [
    "1. Closed - Yes. When odd integers are multiplied, they result in odd numbers. (2m+1)*(2n+1) = 2mn+2m+2n+1 = 2(mn+m+n) + 1 \n",
    "2. Associative - Yes. Integers under multiplication are always assocaitive.\n",
    "3. Identity - Yes. Since 1 is an odd integers, multiplying anything with 1 results in same value.\n",
    "4. Inverse - No. integers do not have multiplicative inverses which are integers.\n",
    "\n",
    "Odd integers under multiplication is a Monoid."
   ]
  },
  {
   "cell_type": "markdown",
   "id": "b7fa53eb",
   "metadata": {},
   "source": [
    "#### Problem 5\n",
    "\n",
    "Let our set be 3 x 2 matrices of integers under addition. What algebraic structure is this?\n"
   ]
  },
  {
   "cell_type": "markdown",
   "id": "7be23454",
   "metadata": {},
   "source": [
    "e.g 3x2 Matrix \n",
    "$$\n",
    "\\begin{bmatrix}\n",
    "a_{11} & a_{12} \\\\\n",
    "a_{21} & a_{22} \\\\\n",
    "a_{31} & a_{32}\n",
    "\\end{bmatrix}\n",
    "$$\n",
    "\n",
    "1. Closed - Yes. Addition is done pairwise. So a 3x2 matrix under addition results in a 3x2 matrix.\n",
    "$$\n",
    "\\begin{bmatrix}\n",
    "1 & 2 \\\\\n",
    "3 & 4 \\\\\n",
    "5 & 6\n",
    "\\end{bmatrix}\n",
    "+\n",
    "\\begin{bmatrix}\n",
    "6 & 5 \\\\\n",
    "4 & 3 \\\\\n",
    "2 & 1\n",
    "\\end{bmatrix}\n",
    "=\n",
    "\\begin{bmatrix}\n",
    "7 & 7 \\\\\n",
    "7 & 7 \\\\\n",
    "7 & 7\n",
    "\\end{bmatrix}\n",
    "$$\n",
    "2. Associative - Yes. Pairwise addition is associative.\n",
    "$$\n",
    "\\left(\n",
    "\\begin{bmatrix}\n",
    "1 & 2 \\\\\n",
    "3 & 4 \\\\\n",
    "5 & 6\n",
    "\\end{bmatrix}\n",
    "+\n",
    "\\begin{bmatrix}\n",
    "6 & 5 \\\\\n",
    "4 & 3 \\\\\n",
    "2 & 1\n",
    "\\end{bmatrix}\n",
    "\\right)\n",
    "+\n",
    "\\begin{bmatrix}\n",
    "1 & 1 \\\\\n",
    "1 & 1 \\\\\n",
    "1 & 1\n",
    "\\end{bmatrix}\n",
    "\n",
    "= \n",
    "\n",
    "\\begin{bmatrix}\n",
    "1 & 2 \\\\\n",
    "3 & 4 \\\\\n",
    "5 & 6\n",
    "\\end{bmatrix}\n",
    "+\n",
    "\\left(\n",
    "\\begin{bmatrix}\n",
    "6 & 5 \\\\\n",
    "4 & 3 \\\\\n",
    "2 & 1\n",
    "\\end{bmatrix}\n",
    "\n",
    "+\n",
    "\\begin{bmatrix}\n",
    "1 & 1 \\\\\n",
    "1 & 1 \\\\\n",
    "1 & 1\n",
    "\\end{bmatrix}\n",
    "\\right)\n",
    "$$\n",
    "\n",
    "$$\n",
    "\\begin{bmatrix}\n",
    "7 & 7 \\\\\n",
    "7 & 7 \\\\\n",
    "7 & 7\n",
    "\\end{bmatrix}\n",
    "+\n",
    "\\begin{bmatrix}\n",
    "1 & 1 \\\\\n",
    "1 & 1 \\\\\n",
    "1 & 1\n",
    "\\end{bmatrix}\n",
    "= \n",
    "\\begin{bmatrix}\n",
    "1 & 2 \\\\\n",
    "3 & 4 \\\\\n",
    "5 & 6\n",
    "\\end{bmatrix}\n",
    "+\n",
    "\\begin{bmatrix}\n",
    "7 & 6 \\\\\n",
    "5 & 4 \\\\\n",
    "3 & 2\n",
    "\\end{bmatrix}\n",
    "$$\n",
    "\n",
    "$$\n",
    "\\begin{bmatrix}\n",
    "8 & 8 \\\\\n",
    "8 & 8 \\\\\n",
    "8 & 8\n",
    "\\end{bmatrix}\n",
    "= \n",
    "\\begin{bmatrix}\n",
    "8 & 8 \\\\\n",
    "8 & 8 \\\\\n",
    "8 & 8\n",
    "\\end{bmatrix}\n",
    "$$\n",
    "\n",
    "3. Identity - Yes. Any 3x2 matrix when added with the Zero matrix results in itself.\n",
    "$$\n",
    "\\begin{bmatrix}\n",
    "0 & 0 \\\\\n",
    "0 & 0 \\\\\n",
    "0 & 0\n",
    "\\end{bmatrix}\n",
    "$$\n",
    "\n",
    "4. Inverse - Yes. Since 3x2 matrix of integers, include negative integers, every element has a negative or postive version of itself as the inverse.\n",
    "\n",
    "3 x 2 matrices of integers under addition is a Group."
   ]
  },
  {
   "cell_type": "markdown",
   "id": "79a81337",
   "metadata": {},
   "source": [
    "#### Problem 6\n",
    "\n",
    "Suppose our set is all rational numbers $\\mathbb{Q}$ except $0$ and our binary operator is division. What algebraic structure is this?\n"
   ]
  },
  {
   "cell_type": "markdown",
   "id": "9358cb47",
   "metadata": {},
   "source": [
    "1. Closed - Yes. When any rational number p1/q1 is divided by p2/q2, the result is another rational number.\n",
    "$$\n",
    "\\frac{\\frac{p1}{q1}}{\\frac{p2}{q2}}  = \\frac{p1*q2}{q1*q1}\n",
    "$$\n",
    "\n",
    "2. Associative - No. Division under rational numbers is not associative.\n",
    "$$\n",
    "p1 = 1, q1 = 2\\\\\n",
    "p2 = 3, q2 = 4\\\\\n",
    "p3 = 5, q3 = 6\\\\\n",
    "\n",
    "\\frac{\\left( \\frac{\\frac{p1}{q1}}{\\frac{p2}{q2}} \\right)}{\\frac{p3}{q3}} = \\frac{\\frac{p1}{q1}}{\\left(\\frac{\\frac{p2}{q2}}{\\frac{p3}{q3}}\\right)}\\\\\n",
    "\\frac{\\left( \\frac{\\frac{1}{2}}{\\frac{3}{4}} \\right)}{\\frac{5}{6}} = \\frac{\\frac{1}{2}}{\\left(\\frac{\\frac{3}{4}}{\\frac{5}{6}}\\right)}\\\\\n",
    "\\frac{\\frac{1*4}{2*3}}{\\frac{5}{6}} = \\frac{\\frac{1}{2}}{\\frac{3*6}{4*5}}\\\\\n",
    "\\frac{\\frac{4}{6}}{\\frac{5}{6}} = \\frac{\\frac{1}{2}}{\\frac{18}{20}}\\\\\n",
    "\\frac{4*6}{6*5} = \\frac{1*20}{2*18}\\\\\n",
    "\\frac{24}{30} = \\frac{20}{36}\\\\\n",
    "\\frac{4}{6} = \\frac{5}{9}\\\\\n",
    "$$\n",
    "\n",
    "Rational numbers under division is a Magma."
   ]
  },
  {
   "cell_type": "markdown",
   "id": "43285314",
   "metadata": {},
   "source": [
    "#### Problem 7\n",
    "\n",
    "Suppose our set is 𓅔 𓆓 𓆟\n"
   ]
  },
  {
   "cell_type": "markdown",
   "id": "3986b1cd",
   "metadata": {},
   "source": [
    "Define a binary operator that makes it a group. You can define the binary operator’s property by constructing a table where the left two columns are the inputs and the right column is the result. Remember you need to allow that the inputs can be the same, for example (𓅔,𓅔) —> ?"
   ]
  },
  {
   "cell_type": "markdown",
   "id": "7ff966fe",
   "metadata": {},
   "source": [
    "|    |    | $a \\cdot b$  |\n",
    "| -- | -- | -- |\n",
    "| 𓅔 | 𓅔 | 𓅔 |\n",
    "| 𓆓 | 𓅔 | 𓆓 |\n",
    "| 𓆟 | 𓅔 | 𓆟 |\n",
    "| 𓅔 | 𓆓 | 𓆓 |\n",
    "| 𓆓 | 𓆓 | 𓆟 |\n",
    "| 𓆟 | 𓆓 | 𓅔 |\n",
    "| 𓅔 | 𓆟 | 𓆟 |\n",
    "| 𓆓 | 𓆟 | 𓅔 |\n",
    "| 𓆟 | 𓆟 | 𓆓 |\n",
    "\n",
    "1. Closed - Yes. Output of all the operation are within the group.\n",
    "2. Associative - Yes. \n",
    "$$\n",
    "(𓅔 \\cdot 𓆓) \\cdot 𓆟 = 𓅔 \\cdot (𓆓 \\cdot 𓆟)\\\\\n",
    "𓆓 \\cdot 𓆟 = 𓅔 \\cdot 𓅔\\\\\n",
    "𓅔 = 𓅔\n",
    "$$\n",
    "3. Identity - Yes. $a \\cdot 𓅔 = a $. 𓅔 is the identity element.\n",
    "4. Inverse - Yes. $a \\cdot a^{-1} = 𓅔$. Inverse of 𓅔 is 𓅔, 𓆓 is 𓆟, 𓆟 is 𓆓."
   ]
  },
  {
   "cell_type": "markdown",
   "id": "2623065f",
   "metadata": {},
   "source": [
    "Define a binary operator that makes it not a group (but it should be closed). Hint: if there is no identity element, then it is not a group"
   ]
  },
  {
   "cell_type": "markdown",
   "id": "3e1916b5",
   "metadata": {},
   "source": [
    "|   |   | $a \\cdot b$  |\n",
    "| - | - | - |\n",
    "| 𓅔 | 𓅔 | 𓆓 |\n",
    "| 𓆓 | 𓅔 | 𓆓 |\n",
    "| 𓆟 | 𓅔 | 𓅔 |\n",
    "| 𓅔 | 𓆓 | 𓅔 |\n",
    "| 𓆓 | 𓆓 | 𓆓 |\n",
    "| 𓆟 | 𓆓 | 𓆟 |\n",
    "| 𓅔 | 𓆟 | 𓅔 |\n",
    "| 𓆓 | 𓆟 | 𓆓 |\n",
    "| 𓆟 | 𓆟 | 𓅔 |\n",
    "\n",
    "1. Closed - Yes. Output of all the operation are within the group.\n",
    "2. Associative - Yes. \n",
    "$$\n",
    "(𓅔 \\cdot 𓆓) \\cdot 𓆟 = 𓅔 \\cdot (𓆓 \\cdot 𓆟)\\\\\n",
    "𓅔 \\cdot 𓆟 = 𓅔 \\cdot 𓆓\\\\\n",
    "𓅔 = 𓅔\n",
    "$$\n",
    "3. Identity - Yes. $a \\cdot 𓆓 = a $.  𓆓 is the identity element.\n",
    "4. Inverse - No. $a \\cdot a^{-1} = 𓆓$ does not exist for all elements.\n",
    "\n",
    "$𓅔 \\cdot 𓅔 = 𓆓$. Inverse of 𓅔 is 𓅔.\n",
    "\n",
    "$𓆓 \\cdot anything = 𓆓$\n",
    "\n",
    "$𓆟 \\cdot nothing = 𓆓$\n",
    "\n",
    "The above set under the specifiend operation is a Monoid, and not a group."
   ]
  },
  {
   "cell_type": "markdown",
   "id": "91660b48",
   "metadata": {},
   "source": [
    "#### Problem 8\n",
    "\n",
    "What is the size of the smallest possible group? (Remember, a group is a set, so this is asking how large the set is)\n"
   ]
  },
  {
   "cell_type": "markdown",
   "id": "03a38196",
   "metadata": {},
   "source": [
    "Smallest group is {1} under multiplication.\n",
    "1. Closed - Yes. 1*1 = 1\n",
    "2. Associative - Yes. (1* 1)* 1 = 1*(1*1)\n",
    "3. Identity - Yes. 1* i = 1*1 = 1\n",
    "4. Inverse - Yes. 1*1 = i = 1."
   ]
  }
 ],
 "metadata": {
  "kernelspec": {
   "display_name": "Python 3",
   "language": "python",
   "name": "python3"
  },
  "language_info": {
   "codemirror_mode": {
    "name": "ipython",
    "version": 3
   },
   "file_extension": ".py",
   "mimetype": "text/x-python",
   "name": "python",
   "nbconvert_exporter": "python",
   "pygments_lexer": "ipython3",
   "version": "3.11.3"
  }
 },
 "nbformat": 4,
 "nbformat_minor": 5
}
