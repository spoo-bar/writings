{
 "cells": [
  {
   "cell_type": "markdown",
   "id": "5ab39b4c",
   "metadata": {},
   "source": [
    "---\n",
    "title: \"ZK-Bootcamp - Homework 5 - BN128\"\n",
    "date: 2025-07-15T00:00:00+00:00\n",
    "author: Spoorthi Satheesha\n",
    "layout: post\n",
    "permalink: /zk-bootcamp-homework-5/\n",
    "categories: Study\n",
    "tags: [math, zk]\n",
    "mathjax: true\n",
    "excerpt: \"Homework for BN128 of Rareskill's ZK Bootcamp\"\n",
    "seo_title: \"ZK-Bootcamp - Homework 5 - BN128\"\n",
    "seo_description: \"Homework for BN128 of Rareskill's ZK Bootcamp\"\n",
    "---"
   ]
  },
  {
   "cell_type": "code",
   "execution_count": null,
   "id": "de966ad6",
   "metadata": {},
   "outputs": [],
   "source": [
    "!python -m pip install py-ecc"
   ]
  },
  {
   "cell_type": "code",
   "execution_count": null,
   "id": "9b571077",
   "metadata": {},
   "outputs": [],
   "source": [
    "from py_ecc.bn128 import G1, add, multiply, curve_order"
   ]
  },
  {
   "cell_type": "markdown",
   "id": "83d708e9",
   "metadata": {},
   "source": [
    "### Problem 1: Rational numbers\n",
    "\n",
    "Claim: “I know two rational numbers that add up to num/den”\n",
    "\n",
    "Proof: ([A], [B], num, den)\n",
    "\n",
    "Here, num is the numerator of the rational number and den is the denominator."
   ]
  },
  {
   "cell_type": "code",
   "execution_count": null,
   "id": "52b9304d",
   "metadata": {},
   "outputs": [],
   "source": [
    "class ECPoint:\n",
    "    def __init__(self, x, y):\n",
    "        self.x = x\n",
    "        self.y = y\n",
    "\n",
    "def rational_add(A: ECPoint, B: ECPoint, num: int, den: int) -> bool:\n",
    "    \"\"\"\n",
    "    Return True if the prover knows two numbers that add up to num/den.\n",
    "    \"\"\"\n",
    "    # To prove a + b = num/den, the prover must know a and b such that:\n",
    "    # a + b = num.den^-1\n",
    "    # We prove this by checking\n",
    "    # F(a + b) = F(a).F(b)\n",
    "    # F(num.den^-1) = F(a).F(b)\n",
    "    den_inv = pow(den, -1, curve_order)\n",
    "    num_den_inv = num * den_inv\n",
    "    F_num_den_inv = multiply(G1, num_den_inv)\n",
    "    F_a_and_F_b = add((A.x, A.y), (B.x, B.y))\n",
    "    return F_num_den_inv == F_a_and_F_b \n",
    "\n",
    "def get_EC_point(a: int) -> ECPoint:\n",
    "    \"\"\"\n",
    "    Convert an integer to an ECPoint on the BN-128 curve.\n",
    "    \"\"\"\n",
    "    x, y = multiply(G1, a)\n",
    "    return ECPoint(x, y)"
   ]
  },
  {
   "cell_type": "code",
   "execution_count": null,
   "id": "13777e7c",
   "metadata": {},
   "outputs": [],
   "source": [
    "# Equation a + b = num / den\n",
    "# Solution 1: 5 + 10 = 45 / 3\n",
    "a = 5\n",
    "b = 10\n",
    "num = 45\n",
    "den = 3\n",
    "A = get_EC_point(a)\n",
    "B = get_EC_point(b)\n",
    "assert rational_add(A, B, num, den) == True\n",
    "\n",
    "# Solution 2: 2 + 3 = 5 / 1\n",
    "a = 2\n",
    "b = 3\n",
    "num = 5\n",
    "den = 1\n",
    "A = get_EC_point(a)\n",
    "B = get_EC_point(b)\n",
    "assert rational_add(A, B, num, den) == True\n",
    "\n",
    "# Invalid solution: 4 + 9 = 3 / 2\n",
    "a = 4\n",
    "b = 9\n",
    "num = 3\n",
    "den = 2\n",
    "A = get_EC_point(a)\n",
    "B = get_EC_point(b)\n",
    "assert rational_add(A, B, num, den) == False"
   ]
  },
  {
   "cell_type": "markdown",
   "id": "a4582a9b",
   "metadata": {},
   "source": [
    "### Problem 2: Matrix Multiplication\n",
    "\n",
    "There is no claim statement here, just execute the math.\n",
    "\n",
    "Your code should implement matrix multiplication of an n x n matrix (**M**) of int and a n x 1 vector of points (**s**). It validates the claim that matrix **Ms = o** where o is a n x 1 matrix of uint256.\n",
    "\n",
    "You will need to multiply **o** by the generator so that both sides have the same type.\n",
    "\n",
    "Example\n",
    "\n",
    "\\begin{bmatrix}1 & 2 & 3\\\\4 & 5 & 6\\\\7 & 8 & 9\\end{bmatrix}\\begin{bmatrix}P\\\\Q\\\\R\\end{bmatrix}=\\begin{bmatrix}P+2Q+3R\\\\4P+5Q+6R\\\\7P + 8Q + 9R\\end{bmatrix}\\stackrel{?}{=}\\begin{bmatrix}o_1G\\\\o_2G\\\\o_3G\\end{bmatrix}"
   ]
  },
  {
   "cell_type": "code",
   "execution_count": null,
   "id": "f8b05fad",
   "metadata": {},
   "outputs": [],
   "source": [
    "def matmul(matrix, n, s, o):\n",
    "    \"\"\"\n",
    "    matrix: matrix of size n x n\n",
    "    n: size of the matrix\n",
    "    s: list of n EC points (tuples: (x, y))\n",
    "    o: list of n integers\n",
    "    Returns True if Ms == o*G1 elementwise\n",
    "    \"\"\"\n",
    "    for i in range(n): # looping through rows of the matrix\n",
    "        expected_o = multiply(G1, o[i]) \n",
    "        found_o = multiply(G1, 0)  # Initialize found_o as the identity element\n",
    "        for j in range(n): # looping through columns of the matrix\n",
    "            matrix_element = matrix[i][j]\n",
    "            point = s[j]\n",
    "            scaled_point = multiply((point.x, point.y), matrix_element)\n",
    "            found_o = add(found_o, scaled_point)\n",
    "        if found_o != expected_o:\n",
    "            return False\n",
    "            \n",
    "    return True"
   ]
  },
  {
   "cell_type": "code",
   "execution_count": null,
   "id": "6c34d55e",
   "metadata": {},
   "outputs": [],
   "source": [
    "matrix = [[1,2,3], [4,5,6], [7,8,9]]\n",
    "n = 3\n",
    "s = [get_EC_point(2), get_EC_point(3), get_EC_point(4)]\n",
    "o = [20, 47, 74] \n",
    "\n",
    "assert matmul(matrix, n, s, o) == True\n",
    "\n",
    "o = [20, 47, 75]  # This should fail as its not a solution\n",
    "assert matmul(matrix, n, s, o) == False"
   ]
  }
 ],
 "metadata": {
  "kernelspec": {
   "display_name": "Python 3",
   "language": "python",
   "name": "python3"
  },
  "language_info": {
   "codemirror_mode": {
    "name": "ipython",
    "version": 3
   },
   "file_extension": ".py",
   "mimetype": "text/x-python",
   "name": "python",
   "nbconvert_exporter": "python",
   "pygments_lexer": "ipython3",
   "version": "3.12.6"
  }
 },
 "nbformat": 4,
 "nbformat_minor": 5
}
