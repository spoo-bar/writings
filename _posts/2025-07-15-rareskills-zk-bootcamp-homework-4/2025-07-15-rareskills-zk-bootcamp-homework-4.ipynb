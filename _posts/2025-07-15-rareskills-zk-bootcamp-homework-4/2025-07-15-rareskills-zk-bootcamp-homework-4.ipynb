{
 "cells": [
  {
   "cell_type": "markdown",
   "id": "34c39f5d",
   "metadata": {},
   "source": [
    "---\n",
    "title: \"ZK-Bootcamp - Homework 4 - Elliptic Curves\"\n",
    "date: 2025-07-15T00:00:00+00:00\n",
    "author: Spoorthi Satheesha\n",
    "layout: post\n",
    "permalink: /zk-bootcamp-homework-4/\n",
    "categories: Study\n",
    "tags: [math, zk]\n",
    "mathjax: true\n",
    "excerpt: \"Homework for Elliptic Curves of Rareskill's ZK Bootcamp\"\n",
    "seo_title: \"ZK-Bootcamp - Homework 4 - Elliptic Curves\"\n",
    "seo_description: \"Homework for Elliptic Curves of Rareskill's ZK Bootcamp\"\n",
    "---"
   ]
  },
  {
   "cell_type": "markdown",
   "id": "c1ffdcca",
   "metadata": {},
   "source": [
    "Use this resource as a reference for implementing the algorithm: https://cryptobook.nakov.com/digital-signatures/ecdsa-sign-verify-messages\n",
    "\n",
    "The following may also be helpful:\n",
    "\n",
    "https://www.rareskills.io/post/finite-fields\n",
    "\n",
    "https://www.rareskills.io/post/elliptic-curve-addition\n",
    "\n",
    "https://www.rareskills.io/post/elliptic-curves-finite-fields\n",
    "\n",
    "https://rareskills.io/post/ecdsa-tutorial\n",
    "\n",
    "Implement ECDSA from scratch. You want to use the secp256k1 curve (which specifies the values for the curve). When starting off, use the Elliptic curve multiplication library used in the blog post linked here: https://www.rareskills.io/post/generate-ethereum-address-from-private-key-python\n",
    "\n",
    "1) pick a private key\n",
    "\n",
    "2) generate the public key using that private key (not the eth address, the public key)\n",
    "\n",
    "3) pick message m and hash it to produce h (h can be though of as a 256 bit number)\n",
    "\n",
    "4) sign m using your private key and a randomly chosen nonce k. produce (r, s, h, PubKey)\n",
    "\n",
    "5) verify (r, s, h, PubKey) is valid\n",
    "\n",
    "You may use a library for point multiplication, but everything else you must do from scratch. Remember, when you compute the multiplicative inverse, you need to do it with respect to the curve order.\n",
    "\n",
    "Pay close attention to the distinction between the curve order and the prime number $p$ we compute the modulus of $y^2=x^3+b \\pmod p$."
   ]
  },
  {
   "cell_type": "code",
   "execution_count": null,
   "id": "c80abf42",
   "metadata": {},
   "outputs": [],
   "source": [
    "!python -m pip install numpy\n",
    "!python -m pip install ecpy"
   ]
  },
  {
   "cell_type": "code",
   "execution_count": null,
   "id": "8c059d3d",
   "metadata": {},
   "outputs": [],
   "source": [
    "# secp256k1 => y^2 = x^3 + 7 (mod 2^256 + 2^32 - 977)\n",
    "a = 0\n",
    "b = 7\n",
    "p = 115792089237316195423570985008687907853269984665640564039457584007908834671663"
   ]
  },
  {
   "cell_type": "code",
   "execution_count": null,
   "id": "f08dd0d2",
   "metadata": {},
   "outputs": [],
   "source": [
    "from ecpy.curves import Curve\n",
    "from hashlib import sha256  \n",
    "import random \n",
    "\n",
    "cv = Curve.get_curve('secp256k1')\n",
    "curve_order = cv.order\n",
    "g = cv.generator\n",
    "\n",
    "def scalar_multiplication(scalar):\n",
    "    new_point = g.mul(scalar)\n",
    "    return new_point\n",
    "\n",
    "def get_public_key(private_key):\n",
    "    return scalar_multiplication(private_key)\n",
    "\n",
    "def hash_msg(msg):\n",
    "    return sha256(msg).digest()\n",
    "\n",
    "def sign_message(message, private_key):\n",
    "    h = hash_msg(message)\n",
    "    h_int = int.from_bytes(h, 'big')  # Convert bytes to integer\n",
    "    k = h_int + private_key \n",
    "    R = scalar_multiplication(k)\n",
    "    r = R.x % p\n",
    "    k_inv = pow(k, -1, curve_order)\n",
    "    s = k_inv * (h_int + r * private_key) % curve_order\n",
    "    return (r, s)\n",
    "\n",
    "def verify_signature(message, r, s, public_key):\n",
    "    h = hash_msg(message)\n",
    "    h_int = int.from_bytes(h, 'big') \n",
    "    s1 = pow(s, -1, curve_order)\n",
    "    R_ = scalar_multiplication(h_int * s1) + (r * s1) * public_key\n",
    "    r_ = R_.x % curve_order\n",
    "    return r_ == r\n"
   ]
  },
  {
   "cell_type": "code",
   "execution_count": null,
   "id": "b6e9430d",
   "metadata": {},
   "outputs": [],
   "source": [
    "private_key = random.getrandbits(256)  # Generate a random private key\n",
    "public_key = get_public_key(private_key)\n",
    "print('private key: ', hex(private_key))\n",
    "print('public key: ', public_key)\n",
    "\n",
    "message = b'Hello, world!'\n",
    "hashed_message = hash_msg(message)\n",
    "print('hashed message: ', hashed_message.hex())\n",
    "\n",
    "r,s = sign_message(message, private_key)\n",
    "print('signature: (r, s) = ', (hex(r), hex(s)))\n",
    "\n",
    "assert verify_signature(message, r, s, public_key) == True\n",
    "\n",
    "new_private_key = random.getrandbits(256) # create a new secret key\n",
    "new_public_key = get_public_key(new_private_key)\n",
    "\n",
    "assert verify_signature(message, r, s, new_public_key) == False\n"
   ]
  }
 ],
 "metadata": {
  "kernelspec": {
   "display_name": "Python 3",
   "language": "python",
   "name": "python3"
  },
  "language_info": {
   "codemirror_mode": {
    "name": "ipython",
    "version": 3
   },
   "file_extension": ".py",
   "mimetype": "text/x-python",
   "name": "python",
   "nbconvert_exporter": "python",
   "pygments_lexer": "ipython3",
   "version": "3.12.6"
  }
 },
 "nbformat": 4,
 "nbformat_minor": 5
}
