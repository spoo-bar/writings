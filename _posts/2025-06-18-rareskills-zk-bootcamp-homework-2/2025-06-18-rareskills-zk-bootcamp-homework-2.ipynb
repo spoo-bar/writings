{
 "cells": [
  {
   "cell_type": "markdown",
   "id": "39c9c1e3",
   "metadata": {},
   "source": [
    "---\n",
    "title: \"ZK-Bootcamp - Homework 2 - Groups and Fields\"\n",
    "date: 2025-06-18T00:00:00+00:00\n",
    "author: Spoorthi Satheesha\n",
    "layout: post\n",
    "permalink: /zk-bootcamp-homework-2/\n",
    "categories: Study\n",
    "tags: [math, zk]\n",
    "mathjax: true\n",
    "excerpt: \"Homework for Groups and Fields of Rareskill's ZK Bootcamp\"\n",
    "seo_title: \"ZK-Bootcamp - Homework 2 - Groups and Fields\"\n",
    "seo_description: \"Homework for Groups and Fields of Rareskill's ZK Bootcamp\"\n",
    "---"
   ]
  },
  {
   "cell_type": "markdown",
   "id": "25e43400",
   "metadata": {},
   "source": [
    "#### Problem 1\n",
    "\n",
    "Let our set be real numbers. Show a binary operator that is not closed\n"
   ]
  },
  {
   "cell_type": "markdown",
   "id": "a37f8f07",
   "metadata": {},
   "source": [
    "#### Problem 2\n",
    "\n",
    "Find a binary operator that is closed but not associative for real numbers\n"
   ]
  },
  {
   "cell_type": "markdown",
   "id": "15c77768",
   "metadata": {},
   "source": [
    "#### Problem 3\n",
    "\n",
    "What algebraic structure (group, monoid, semigroup, etc) is all even integers under addition\n"
   ]
  },
  {
   "cell_type": "markdown",
   "id": "363e516f",
   "metadata": {},
   "source": [
    "#### Problem 4\n",
    "\n",
    "What algebraic structure is all odd integers under multiplication?\n"
   ]
  },
  {
   "cell_type": "markdown",
   "id": "b7fa53eb",
   "metadata": {},
   "source": [
    "#### Problem 5\n",
    "\n",
    "Let our set be 3 x 2 matrices of integers under addition. What algebraic structure is this?\n"
   ]
  },
  {
   "cell_type": "markdown",
   "id": "79a81337",
   "metadata": {},
   "source": [
    "#### Problem 6\n",
    "\n",
    "Suppose our set is all rational numbers $\\mathbb{Q}$ except $0$ and our binary operator is division. What algebraic structure is this?\n"
   ]
  },
  {
   "cell_type": "markdown",
   "id": "43285314",
   "metadata": {},
   "source": [
    "#### Problem 7\n",
    "\n",
    "Suppose our set is 𓅔 𓆓 𓆟\n"
   ]
  },
  {
   "cell_type": "markdown",
   "id": "3986b1cd",
   "metadata": {},
   "source": [
    "Define a binary operator that makes it a group. You can define the binary operator’s property by constructing a table where the left two columns are the inputs and the right column is the result. Remember you need to allow that the inputs can be the same, for example (𓅔,𓅔) —> ?"
   ]
  },
  {
   "cell_type": "markdown",
   "id": "2623065f",
   "metadata": {},
   "source": [
    "Define a binary operator that makes it not a group (but it should be closed). Hint: if there is no identity element, then it is not a group"
   ]
  },
  {
   "cell_type": "markdown",
   "id": "91660b48",
   "metadata": {},
   "source": [
    "#### Problem 8\n",
    "\n",
    "What is the size of the smallest possible group? (Remember, a group is a set, so this is asking how large the set is)\n"
   ]
  }
 ],
 "metadata": {
  "language_info": {
   "name": "python"
  }
 },
 "nbformat": 4,
 "nbformat_minor": 5
}
