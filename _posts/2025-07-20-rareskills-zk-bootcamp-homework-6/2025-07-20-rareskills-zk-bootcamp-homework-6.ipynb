{
 "cells": [
  {
   "cell_type": "markdown",
   "id": "4144af76",
   "metadata": {},
   "source": [
    "---\n",
    "title: \"ZK-Bootcamp - Homework 6 - Bilinear Pairings\"\n",
    "date: 2025-07-20T00:00:00+00:00\n",
    "author: Spoorthi Satheesha\n",
    "layout: post\n",
    "permalink: /zk-bootcamp-homework-6/\n",
    "categories: Study\n",
    "tags: [math, zk]\n",
    "mathjax: true\n",
    "excerpt: \"Homework for Bilinear Pairings of Rareskill's ZK Bootcamp\"\n",
    "seo_title: \"ZK-Bootcamp - Homework 6 - Bilinear Pairings\"\n",
    "seo_description: \"Homework for Bilinear Pairings of Rareskill's ZK Bootcamp\"\n",
    "---"
   ]
  },
  {
   "cell_type": "markdown",
   "id": "34281221",
   "metadata": {},
   "source": [
    "Implement code that verifies the computation for the EC points.\n",
    "\n",
    "$$0 = -A_1B_2 +\\alpha_1\\beta_2 + X_1\\gamma_2 + C_1\\delta_2\\\\X_1=x_1G1 + x_2G1 + x_3G1$$\n",
    "\n",
    "Pick any (nontrivial) values to generate the points that results a balanced equation.\n",
    "\n",
    "Note that x1, x2, x3 are uint256 and the rest are G1 or G2 points.\n",
    "\n",
    "You will need to take in the following as arguments to a public function:\n",
    "\n",
    "$$A_1, B_2, C_1, x_1,x_2,x_3$$\n",
    "\n"
   ]
  },
  {
   "cell_type": "code",
   "execution_count": null,
   "id": "3990f1c7",
   "metadata": {},
   "outputs": [],
   "source": [
    "!python -m pip install py-ecc"
   ]
  },
  {
   "cell_type": "code",
   "execution_count": null,
   "id": "542ce30b",
   "metadata": {},
   "outputs": [],
   "source": [
    "from py_ecc.optimized_bn128 import  G1, G2, add, multiply, pairing\n",
    "\n",
    "def get_EC1_point(a: int):\n",
    "    return multiply(G1, a)\n",
    "\n",
    "def get_EC2_point(a: int):\n",
    "    return multiply(G2, a)\n",
    "\n",
    "# Constants\n",
    "ALPHA_G1 = get_EC1_point(5)\n",
    "BETA_G2 = get_EC2_point(3)\n",
    "GAMMA_G2 = get_EC2_point(6)\n",
    "DELTA_G2 = get_EC2_point(8)  "
   ]
  },
  {
   "cell_type": "code",
   "execution_count": null,
   "id": "755455ac",
   "metadata": {},
   "outputs": [],
   "source": [
    "def verify(A1, B2, C1, x1, x2, x3):\n",
    "    x1g1 = multiply(G1, x1)\n",
    "    x2g1 = multiply(G1, x2)\n",
    "    x3g1 = multiply(G1, x3)\n",
    "    X1 = add(add(x1g1, x2g1) , x3g1)\n",
    "    return (pairing(B2, A1) == pairing(BETA_G2, ALPHA_G1)*pairing(GAMMA_G2, X1)*pairing(DELTA_G2, C1))\n"
   ]
  },
  {
   "cell_type": "code",
   "execution_count": null,
   "id": "613f7e11",
   "metadata": {},
   "outputs": [],
   "source": [
    "# Valid solution\n",
    "a1 = 7\n",
    "b2 = 7\n",
    "c1 = 2\n",
    "x1 = 1\n",
    "x2 = 1\n",
    "x3 = 1\n",
    "assert verify(get_EC1_point(a1), get_EC2_point(b2), get_EC1_point(c1), x1, x2, x3) == True\n",
    "\n",
    "# Invalid solution\n",
    "a1 = 1\n",
    "b2 = 2\n",
    "c1 = 3\n",
    "x1 = 4\n",
    "x2 = 5\n",
    "x3 = 6\n",
    "assert verify(get_EC1_point(a1), get_EC2_point(b2), get_EC1_point(c1), x1, x2, x3) == False\n"
   ]
  }
 ],
 "metadata": {
  "kernelspec": {
   "display_name": "Python 3",
   "language": "python",
   "name": "python3"
  },
  "language_info": {
   "codemirror_mode": {
    "name": "ipython",
    "version": 3
   },
   "file_extension": ".py",
   "mimetype": "text/x-python",
   "name": "python",
   "nbconvert_exporter": "python",
   "pygments_lexer": "ipython3",
   "version": "3.12.6"
  }
 },
 "nbformat": 4,
 "nbformat_minor": 5
}
