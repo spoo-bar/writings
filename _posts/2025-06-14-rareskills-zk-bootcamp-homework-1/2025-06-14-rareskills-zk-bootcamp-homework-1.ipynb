{
 "cells": [
  {
   "cell_type": "markdown",
   "id": "c80802f5",
   "metadata": {},
   "source": [
    "---\n",
    "title: \"ZK-Bootcamp - Homework 1 - Modular Arithematic\"\n",
    "date: 2025-06-14T00:00:00+00:00\n",
    "author: Spoorthi Satheesha\n",
    "layout: post\n",
    "permalink: /zk-bootcamp-homework-1/\n",
    "categories: Study\n",
    "tags: [math, zk]\n",
    "mathjax: true\n",
    "excerpt: \"Homework for Modular Arithermatic of Rareskill's ZK Bootcamp\"\n",
    "seo_title: \"ZK-Bootcamp - Homework 1 - Modular Arithematic\"\n",
    "seo_description: \"Homework for Modular Arithermatic of Rareskill's ZK Bootcamp\"\n",
    "---"
   ]
  },
  {
   "cell_type": "markdown",
   "id": "b47ff538",
   "metadata": {},
   "source": [
    "This post hosts my homework for my studies at the ZK Bootcamp conducted by [Rareskills](https://www.rareskills.io/zk-bootcamp).\n",
    "\n",
    "\n",
    "> For all problems below, assume the finite field is p = 71.\n",
    ">\n",
    "> **Remember, this is done in a finite field so your answer should only contain numbers [0-70] inclusive. There should be no fractions or negative numbers.**"
   ]
  },
  {
   "cell_type": "code",
   "execution_count": null,
   "id": "472e5df1",
   "metadata": {},
   "outputs": [],
   "source": [
    "p = 71"
   ]
  },
  {
   "cell_type": "markdown",
   "id": "06dbbdc8",
   "metadata": {},
   "source": [
    "#### Problem 1\n",
    "\n",
    "Find the elements in a finite field that are congruent to the following values:\n"
   ]
  },
  {
   "cell_type": "markdown",
   "id": "f7e202c2",
   "metadata": {},
   "source": [
    "- -1"
   ]
  },
  {
   "cell_type": "code",
   "execution_count": null,
   "id": "9eb3ba1e",
   "metadata": {},
   "outputs": [],
   "source": [
    "pow(-1, -1, p)"
   ]
  },
  {
   "cell_type": "markdown",
   "id": "c244c514",
   "metadata": {},
   "source": [
    "- -4"
   ]
  },
  {
   "cell_type": "code",
   "execution_count": null,
   "id": "2039d3ee",
   "metadata": {},
   "outputs": [],
   "source": [
    "pow(-4, -1, p)"
   ]
  },
  {
   "cell_type": "markdown",
   "id": "d8e07ad5",
   "metadata": {},
   "source": [
    "\n",
    "- -160"
   ]
  },
  {
   "cell_type": "code",
   "execution_count": null,
   "id": "d422205d",
   "metadata": {},
   "outputs": [],
   "source": [
    "pow(-160, -1, p)"
   ]
  },
  {
   "cell_type": "markdown",
   "id": "57ad4701",
   "metadata": {},
   "source": [
    "\n",
    "- 500"
   ]
  },
  {
   "cell_type": "code",
   "execution_count": null,
   "id": "c8a4d4db",
   "metadata": {},
   "outputs": [],
   "source": [
    "pow(500, -1, p)"
   ]
  },
  {
   "cell_type": "markdown",
   "id": "804f4c59",
   "metadata": {},
   "source": [
    "#### Problem 2\n",
    "\n",
    "Find the elements that are congruent to a = 5/6, b = 11/12, and c = 21/12\n",
    "\n",
    "Verify your answer by checking that a + b = c (in the finite field)"
   ]
  },
  {
   "cell_type": "code",
   "execution_count": null,
   "id": "c86c0d95",
   "metadata": {},
   "outputs": [],
   "source": [
    "# a = 5/6 = 5 * 6^-1\n",
    "# 6^-1 = 6^(p-2) mod p - using Fermat's Little Theorem\n",
    "a = (5 * pow(6, p-2, p))%p\n",
    "# b = 11/12 = 11 * 12^-1\n",
    "# 12^-1 = 12^(p-2) mod p\n",
    "b = (11 * pow(12, p-2, p))%p\n",
    "# c = 21/12 = 21 * 12^-1\n",
    "# 12^-1 = 12^(p-2) mod p\n",
    "c = (21 * pow(12, p-2, p))%p\n",
    "\n",
    "assert (a + b)%p == c"
   ]
  },
  {
   "cell_type": "markdown",
   "id": "40e4f809",
   "metadata": {},
   "source": [
    "#### Problem 3\n",
    "\n",
    "Find the elements that are congruent to a = 2/3, b = 1/2, and c = 1/3.\n",
    "\n",
    "Verify your answer by checking that a * b = c (in the finite field)"
   ]
  },
  {
   "cell_type": "code",
   "execution_count": null,
   "id": "c13b2f50",
   "metadata": {},
   "outputs": [],
   "source": [
    "# a = 2/3 = 2 * 3^-1\n",
    "# 3^-1 = 3^(p-2) mod p - using Fermat's Little Theorem\n",
    "a = (2 * pow(3, p-2, p))%p\n",
    "# b = 1/2 = 1 * 2^-1\n",
    "# 2^-1 = 2^(p-2) mod p\n",
    "b = (1 * pow(2, p-2, p))%p\n",
    "# c = 1/3 = 1 * 3^-1\n",
    "# 3^-1 = 3^(p-2) mod p\n",
    "c = (1 * pow(3, p-2, p))%p\n",
    "\n",
    "assert (a * b)%p == c"
   ]
  },
  {
   "cell_type": "markdown",
   "id": "0dd6ffa2",
   "metadata": {},
   "source": [
    "#### Problem 4\n",
    "\n",
    "The inverse of a 2 x 2 matrix $A$ is\n",
    "\n",
    "$$\n",
    "A^{-1}=\\frac{1}{\\text{det}}\\begin{bmatrix}d & -b\\\\-c & a\\end{bmatrix}\n",
    "$$\n",
    "\n",
    "where $A$ is\n",
    "\n",
    "$$\n",
    "A = \\begin{bmatrix}a & b\\\\c & d\\end{bmatrix}\n",
    "$$\n",
    "\n",
    "And the determinant det is\n",
    "\n",
    "$$\n",
    "\\text{det}=a \\times d-b\\times c\n",
    "$$\n",
    "\n",
    "Compute the inverse of the following matrix in the finite field:\n",
    "\n",
    "$$\n",
    "\\begin{bmatrix}1 & 1\\\\1 & 4\\end{bmatrix}\n",
    "$$\n",
    "\n",
    "Verify your answer by checking that\n",
    "\n",
    "$$\n",
    "AA^{-1}=I\n",
    "$$\n",
    "\n",
    "Where $I$ is the identity matrix.\n"
   ]
  },
  {
   "cell_type": "code",
   "execution_count": null,
   "id": "67d7ac48",
   "metadata": {},
   "outputs": [],
   "source": [
    "import numpy as np\n",
    "a = 1\n",
    "b = 1\n",
    "c = 1\n",
    "d = 4\n",
    "A = np.array([[a, b], [c, d]])\n",
    "det = (a * d - b * c) % p\n",
    "det_inv = pow(det, -1, p)\n",
    "A_inv = (det_inv * np.array([[d, -b], [-c, a]])) % p\n",
    "I = np.array([[1, 0], [0, 1]])\n",
    "assert (A @ A_inv % p == I).all()"
   ]
  },
  {
   "cell_type": "markdown",
   "id": "4f465d7a",
   "metadata": {},
   "source": [
    "#### Problem 5\n",
    "\n",
    "What is the modular square root of 12?\n",
    "\n",
    "Verify your answer by checking that x * x = 12 (mod 71)\n",
    "\n",
    "Use brute force to find the answer (in Python)"
   ]
  },
  {
   "cell_type": "code",
   "execution_count": null,
   "id": "8ccd97d3",
   "metadata": {},
   "outputs": [],
   "source": [
    "root = 0\n",
    "for i in range(1, p):\n",
    "    square = (i * i) % p\n",
    "    if square == 12:\n",
    "        root = i\n",
    "        break\n",
    "assert (root*root % p == 12)\n",
    "print(f\"The square root of 12 mod {p} is {root}\")"
   ]
  },
  {
   "cell_type": "markdown",
   "id": "e9fbcc69",
   "metadata": {},
   "source": [
    "#### Problem 6\n",
    "\n",
    "Suppose we have the following polynomials:\n",
    "\n",
    "$$\n",
    "p(x)=52x^2+24x+61\\\\q(x)=40x^2+40x+58\n",
    "$$\n",
    "\n",
    "What is p(x) + q(x)? What is p(x) * q(x)?\n",
    "\n",
    "Use the `galois` library in Python to find the roots of p(x) and q(x).\n",
    "\n",
    "What are the roots of p(x)q(x)?"
   ]
  },
  {
   "cell_type": "markdown",
   "id": "00394c83",
   "metadata": {},
   "source": [
    "$$\n",
    "p(x)+q(x)=52x^2+24x+61 + 40x^2+40x+58\\\\\n",
    "= (52+40)x^2 + (24+40)x + (61+58)\\\\\n",
    "= 92x^2 + 64x + 119\\\\\n",
    "$$\n",
    "$$\n",
    "p(x)*q(x)=52x^2+24x+61 * 40x^2+40x+58\\\\\n",
    "= 52x^2(40x^2+40x+58) + 24x(40x^2+40x+58) + 61(40x^2+40x+58)\\\\\n",
    "= 2080x^4 + 2080x^3 + 3016x^2 + 960x^3 + 960x^2 + 1392x + 2440x^2 + 2440x + 3538\\\\\n",
    "= 2080x^4 + (2080+960)x^3 + (3016+960+2440)x^2 + (1390+2440)x + 3538\\\\\n",
    "= 2080x^4 + 3040x^3 + 6416x^2 + 3830x + 3538\n",
    "$$"
   ]
  },
  {
   "cell_type": "code",
   "execution_count": null,
   "id": "88ce2379",
   "metadata": {},
   "outputs": [],
   "source": [
    "import galois\n",
    "\n",
    "GF = galois.GF(p)\n",
    "p = galois.Poly([52,24,61], field=GF)\n",
    "roots = p.roots() # 34, 42\n",
    "print(f\"The roots of the polynomial {p} are {roots}\") \n",
    "q = galois.Poly([40,40,58], field=GF)\n",
    "roots = q.roots() # None\n",
    "print(f\"The roots of the polynomial {q} are {roots}\")\n",
    "pq = p * q\n",
    "roots = pq.roots() # 34, 42\n",
    "print(f\"The roots of the polynomial {pq} are {roots}\")"
   ]
  },
  {
   "cell_type": "markdown",
   "id": "dfd7c95d",
   "metadata": {},
   "source": [
    "#### Problem 7\n",
    "\n",
    "Find a polynomial f(x) that crosses the points (10, 15), (23, 29).\n",
    "\n",
    "Since these are two points, the polynomial will be of degree 1 and be the equation for a line (y = ax + b).\n",
    "\n",
    "Verify your answer by checking that f(10) = 15 and f(23) = 29."
   ]
  },
  {
   "cell_type": "code",
   "execution_count": null,
   "id": "b10244aa",
   "metadata": {},
   "outputs": [],
   "source": [
    "x1 = 10\n",
    "y1 = 15\n",
    "x2 = 23\n",
    "y2 = 29\n",
    "a = (y2 - y1)/(x2 - x1)\n",
    "b = y1 - a * x1\n",
    "poly = galois.Poly([a,b], field=GF)\n",
    "assert poly(10) == 15\n",
    "assert poly(23) == 29"
   ]
  },
  {
   "cell_type": "markdown",
   "id": "963b2b69",
   "metadata": {},
   "source": [
    "#### Problem 8\n",
    "\n",
    "What is Lagrange interpolation and what does it do?\n",
    "\n",
    "Find a polynomial that crosses through the points (0, 1), (1, 2), (2, 1).\n",
    "\n",
    "Use this Stackoverflow answer as a starting point: https://stackoverflow.com/a/73434775"
   ]
  },
  {
   "cell_type": "code",
   "execution_count": null,
   "id": "57cc4809",
   "metadata": {},
   "outputs": [],
   "source": []
  }
 ],
 "metadata": {
  "kernelspec": {
   "display_name": "Python 3",
   "language": "python",
   "name": "python3"
  },
  "language_info": {
   "codemirror_mode": {
    "name": "ipython",
    "version": 3
   },
   "file_extension": ".py",
   "mimetype": "text/x-python",
   "name": "python",
   "nbconvert_exporter": "python",
   "pygments_lexer": "ipython3",
   "version": "3.12.6"
  }
 },
 "nbformat": 4,
 "nbformat_minor": 5
}
