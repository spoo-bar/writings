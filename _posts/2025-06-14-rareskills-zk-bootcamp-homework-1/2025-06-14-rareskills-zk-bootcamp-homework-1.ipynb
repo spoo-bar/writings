{
 "cells": [
  {
   "cell_type": "markdown",
   "id": "c80802f5",
   "metadata": {},
   "source": [
    "---\n",
    "title: \"ZK-Bootcamp - Homework 1 - Modular Arithematic\"\n",
    "date: 2025-06-14T00:00:00+00:00\n",
    "author: Spoorthi Satheesha\n",
    "layout: post\n",
    "permalink: /zk-bootcamp-homework-1/\n",
    "categories: Study\n",
    "tags: [math, zk]\n",
    "mathjax: true\n",
    "excerpt: \"Homework for Modular Arithermatic of Rareskill's ZK Bootcamp\"\n",
    "seo_title: \"ZK-Bootcamp - Homework 1 - Modular Arithematic\"\n",
    "seo_description: \"Homework for Modular Arithermatic of Rareskill's ZK Bootcamp\"\n",
    "---"
   ]
  },
  {
   "cell_type": "markdown",
   "id": "b47ff538",
   "metadata": {},
   "source": [
    "This post hosts my homework for my studies at the ZK Bootcamp conducted by [Rareskills](https://www.rareskills.io/zk-bootcamp).\n",
    "\n",
    "\n",
    "> For all problems below, assume the finite field is p = 71.\n",
    ">\n",
    "> **Remember, this is done in a finite field so your answer should only contain numbers [0-70] inclusive. There should be no fractions or negative numbers.**"
   ]
  },
  {
   "cell_type": "code",
   "execution_count": 2,
   "id": "472e5df1",
   "metadata": {},
   "outputs": [],
   "source": [
    "p = 71"
   ]
  },
  {
   "cell_type": "markdown",
   "id": "06dbbdc8",
   "metadata": {},
   "source": [
    "#### Problem 1\n",
    "\n",
    "Find the elements in a finite field that are congruent to the following values:\n"
   ]
  },
  {
   "cell_type": "markdown",
   "id": "f7e202c2",
   "metadata": {},
   "source": [
    "- -1"
   ]
  },
  {
   "cell_type": "code",
   "execution_count": 2,
   "id": "9eb3ba1e",
   "metadata": {},
   "outputs": [
    {
     "data": {
      "text/plain": [
       "70"
      ]
     },
     "execution_count": 2,
     "metadata": {},
     "output_type": "execute_result"
    }
   ],
   "source": [
    "pow(-1, -1, p)"
   ]
  },
  {
   "cell_type": "markdown",
   "id": "c244c514",
   "metadata": {},
   "source": [
    "- -4"
   ]
  },
  {
   "cell_type": "code",
   "execution_count": 3,
   "id": "2039d3ee",
   "metadata": {},
   "outputs": [
    {
     "data": {
      "text/plain": [
       "53"
      ]
     },
     "execution_count": 3,
     "metadata": {},
     "output_type": "execute_result"
    }
   ],
   "source": [
    "pow(-4, -1, p)"
   ]
  },
  {
   "cell_type": "markdown",
   "id": "d8e07ad5",
   "metadata": {},
   "source": [
    "\n",
    "- -160"
   ]
  },
  {
   "cell_type": "code",
   "execution_count": 4,
   "id": "d422205d",
   "metadata": {},
   "outputs": [
    {
     "data": {
      "text/plain": [
       "67"
      ]
     },
     "execution_count": 4,
     "metadata": {},
     "output_type": "execute_result"
    }
   ],
   "source": [
    "pow(-160, -1, p)"
   ]
  },
  {
   "cell_type": "markdown",
   "id": "57ad4701",
   "metadata": {},
   "source": [
    "\n",
    "- 500"
   ]
  },
  {
   "cell_type": "code",
   "execution_count": 5,
   "id": "c8a4d4db",
   "metadata": {},
   "outputs": [
    {
     "data": {
      "text/plain": [
       "24"
      ]
     },
     "execution_count": 5,
     "metadata": {},
     "output_type": "execute_result"
    }
   ],
   "source": [
    "pow(500, -1, p)"
   ]
  },
  {
   "cell_type": "markdown",
   "id": "804f4c59",
   "metadata": {},
   "source": [
    "#### Problem 2\n",
    "\n",
    "Find the elements that are congruent to a = 5/6, b = 11/12, and c = 21/12\n",
    "\n",
    "Verify your answer by checking that a + b = c (in the finite field)"
   ]
  },
  {
   "cell_type": "code",
   "execution_count": null,
   "id": "c86c0d95",
   "metadata": {},
   "outputs": [],
   "source": [
    "# a = 5/6 = 5 * 6^-1\n",
    "# 6^-1 = 6^(p-2) mod p - using Fermat's Little Theorem\n",
    "a = (5 * pow(6, p-2, p))%p\n",
    "# b = 11/12 = 11 * 12^-1\n",
    "# 12^-1 = 12^(p-2) mod p\n",
    "b = (11 * pow(12, p-2, p))%p\n",
    "# c = 21/12 = 21 * 12^-1\n",
    "# 12^-1 = 12^(p-2) mod p\n",
    "c = (21 * pow(12, p-2, p))%p\n",
    "\n",
    "assert (a + b)%p == c"
   ]
  },
  {
   "cell_type": "markdown",
   "id": "40e4f809",
   "metadata": {},
   "source": [
    "#### Problem 3\n",
    "\n",
    "Find the elements that are congruent to a = 2/3, b = 1/2, and c = 1/3.\n",
    "\n",
    "Verify your answer by checking that a * b = c (in the finite field)"
   ]
  },
  {
   "cell_type": "code",
   "execution_count": null,
   "id": "c13b2f50",
   "metadata": {},
   "outputs": [],
   "source": [
    "# a = 2/3 = 2 * 3^-1\n",
    "# 3^-1 = 3^(p-2) mod p - using Fermat's Little Theorem\n",
    "a = (2 * pow(3, p-2, p))%p\n",
    "# b = 1/2 = 1 * 2^-1\n",
    "# 2^-1 = 2^(p-2) mod p\n",
    "b = (1 * pow(2, p-2, p))%p\n",
    "# c = 1/3 = 1 * 3^-1\n",
    "# 3^-1 = 3^(p-2) mod p\n",
    "c = (1 * pow(3, p-2, p))%p\n",
    "\n",
    "assert (a * b)%p == c"
   ]
  },
  {
   "cell_type": "markdown",
   "id": "0dd6ffa2",
   "metadata": {},
   "source": [
    "#### Problem 4\n",
    "\n",
    "The inverse of a 2 x 2 matrix $A$ is\n",
    "\n",
    "$$\n",
    "A^{-1}=\\frac{1}{\\text{det}}\\begin{bmatrix}d & -b\\\\-c & a\\end{bmatrix}\n",
    "$$\n",
    "\n",
    "where $A$ is\n",
    "\n",
    "$$\n",
    "A = \\begin{bmatrix}a & b\\\\c & d\\end{bmatrix}\n",
    "$$\n",
    "\n",
    "And the determinant det is\n",
    "\n",
    "$$\n",
    "\\text{det}=a \\times d-b\\times c\n",
    "$$\n",
    "\n",
    "Compute the inverse of the following matrix in the finite field:\n",
    "\n",
    "$$\n",
    "\\begin{bmatrix}1 & 1\\\\1 & 4\\end{bmatrix}\n",
    "$$\n",
    "\n",
    "Verify your answer by checking that\n",
    "\n",
    "$$\n",
    "AA^{-1}=I\n",
    "$$\n",
    "\n",
    "Where $I$ is the identity matrix.\n"
   ]
  },
  {
   "cell_type": "code",
   "execution_count": 8,
   "id": "67d7ac48",
   "metadata": {},
   "outputs": [],
   "source": [
    "import numpy as np\n",
    "\n",
    "a = 1\n",
    "b = 1\n",
    "c = 1\n",
    "d = 4\n",
    "A = np.array([[a, b], [c, d]])\n",
    "det = (a * d - b * c) % p\n",
    "det_inv = pow(det, -1, p)\n",
    "A_inv = (det_inv * np.array([[d, -b], [-c, a]])) % p\n",
    "I = np.array([[1, 0], [0, 1]])\n",
    "assert (A @ A_inv % p == I).all()"
   ]
  }
 ],
 "metadata": {
  "kernelspec": {
   "display_name": "Python 3",
   "language": "python",
   "name": "python3"
  },
  "language_info": {
   "codemirror_mode": {
    "name": "ipython",
    "version": 3
   },
   "file_extension": ".py",
   "mimetype": "text/x-python",
   "name": "python",
   "nbconvert_exporter": "python",
   "pygments_lexer": "ipython3",
   "version": "3.12.6"
  }
 },
 "nbformat": 4,
 "nbformat_minor": 5
}
